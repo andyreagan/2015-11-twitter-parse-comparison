{
 "cells": [
  {
   "cell_type": "markdown",
   "metadata": {},
   "source": [
    "take a look at how my parse works different than MITRE's (preface bias: I like mine)"
   ]
  },
  {
   "cell_type": "code",
   "execution_count": 1,
   "metadata": {
    "collapsed": true
   },
   "outputs": [],
   "source": [
    "import re"
   ]
  },
  {
   "cell_type": "code",
   "execution_count": 25,
   "metadata": {
    "collapsed": false
   },
   "outputs": [],
   "source": [
    "# note, we'll both exclude stop words later\n",
    "def reaganParse(raw_text):\n",
    "    replaceStrings = ['---','--','\\'\\'']\n",
    "    for replaceString in replaceStrings:\n",
    "        raw_text = raw_text.replace(replaceString,' ')\n",
    "    return [x.lower() for x in re.findall(r\"[\\w\\@\\#\\'\\&\\]\\*\\-\\/\\[\\=]+\",raw_text,flags=re.UNICODE)]\n",
    "def MITREParse(raw_text):\n",
    "    replaceStrings = ['...','. ',',',';','---','--','\"','!','?','(',')',':','\\n.','.\\n','\\'\\'',]\n",
    "    # in = in.replaceAll(\"[^\\\\x00-\\\\x7F]\", \"\");   //strike all non-ascii (trader parser overhead for counting overhead later)\n",
    "    for replaceString in replaceStrings:\n",
    "        raw_text = raw_text.replace(replaceString,' ')\n",
    "    return [x.lower() for x in raw_text.split(' ') if len(x) > 0]"
   ]
  },
  {
   "cell_type": "code",
   "execution_count": 26,
   "metadata": {
    "collapsed": false
   },
   "outputs": [],
   "source": [
    "test_strings = ['   ','@andyreagan',' #happy','M.I.A.',' hey..nice to meet you','at;t','what\\'s up dog;not \\'\\'much','double--hyphen',\n",
    "               'greater--than>']"
   ]
  },
  {
   "cell_type": "code",
   "execution_count": 27,
   "metadata": {
    "collapsed": false
   },
   "outputs": [
    {
     "name": "stdout",
     "output_type": "stream",
     "text": [
      "[]\n",
      "[]\n",
      "['@andyreagan']\n",
      "['@andyreagan']\n",
      "['#happy']\n",
      "['#happy']\n",
      "['m', 'i', 'a']\n",
      "['m.i.a.']\n",
      "['hey', 'nice', 'to', 'meet', 'you']\n",
      "['hey..nice', 'to', 'meet', 'you']\n",
      "['at', 't']\n",
      "['at', 't']\n",
      "[\"what's\", 'up', 'dog', 'not', 'much']\n",
      "[\"what's\", 'up', 'dog', 'not', 'much']\n",
      "['double', 'hyphen']\n",
      "['double', 'hyphen']\n",
      "['greater', 'than']\n",
      "['greater', 'than>']\n"
     ]
    }
   ],
   "source": [
    "for my_string in test_strings:\n",
    "    print(reaganParse(my_string))\n",
    "    print(MITREParse(my_string))"
   ]
  },
  {
   "cell_type": "code",
   "execution_count": 10,
   "metadata": {
    "collapsed": false
   },
   "outputs": [],
   "source": [
    "from labMTsimple.storyLab import emotionFileReader\n",
    "labMT,labMTscores,labMTwords = emotionFileReader(lang=\"english\",returnVector=True)"
   ]
  },
  {
   "cell_type": "code",
   "execution_count": 12,
   "metadata": {
    "collapsed": false
   },
   "outputs": [
    {
     "name": "stdout",
     "output_type": "stream",
     "text": [
      "at;t\n"
     ]
    }
   ],
   "source": [
    "for word in labMTwords:\n",
    "    test1 = reaganParse(word)\n",
    "    test1 = MITREParse(word)\n",
    "    if not len(test1) == 1:\n",
    "        print(word)"
   ]
  },
  {
   "cell_type": "code",
   "execution_count": null,
   "metadata": {
    "collapsed": true
   },
   "outputs": [],
   "source": []
  },
  {
   "cell_type": "code",
   "execution_count": null,
   "metadata": {
    "collapsed": true
   },
   "outputs": [],
   "source": []
  }
 ],
 "metadata": {
  "kernelspec": {
   "display_name": "Python 2",
   "language": "python",
   "name": "python2"
  },
  "language_info": {
   "codemirror_mode": {
    "name": "ipython",
    "version": 2
   },
   "file_extension": ".py",
   "mimetype": "text/x-python",
   "name": "python",
   "nbconvert_exporter": "python",
   "pygments_lexer": "ipython2",
   "version": "2.7.10"
  }
 },
 "nbformat": 4,
 "nbformat_minor": 0
}
